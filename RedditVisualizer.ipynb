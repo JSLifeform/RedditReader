{
 "cells": [
  {
   "cell_type": "markdown",
   "id": "f70e8e67",
   "metadata": {},
   "source": [
    "# Reddit r/politics/hot top comment analyses\n",
    "\n",
    "Reddit is an extremely popular online forum, ranking as #23 in internet traffic engagement(according to https://www.alexa.com/siteinfo/reddit.com). It is broken into subreddits, shortcut as r/, where users can post relevant links, images, videos, or simply text posts relevant to the particular subreddit. These posts are sometimes called threads. Other users may then reply to these threads with comments. This allows other users to reply to their comments, allowing for robust(occasionally), informative(sometimes), interesting(inane?) and diverse(hah!) conversation. \n",
    "\n",
    "All users registered to Reddit may upvote or downvote any thread or comment on the site, creating a score for each item. This score is known as Karma. Reddit also tracks the total Karma for each user (the cumulative of their earned karma from their posts comments). \n",
    "\n",
    "The purpose of this project is to analyze the top comments in trending  threads from the r/politics subreddit, in the section known as hot/. Put all of this together, and you get the URL of the site we are scraping for data: https://www.reddit.com/r/politics/hot."
   ]
  },
  {
   "cell_type": "code",
   "execution_count": 1,
   "id": "6814c2f6",
   "metadata": {},
   "outputs": [
    {
     "name": "stdout",
     "output_type": "stream",
     "text": [
      "2024\n",
      "Name                            object\n",
      "TotalKarma                       int64\n",
      "CommentLength                    int64\n",
      "CommentDateTime         datetime64[ns]\n",
      "AccountDateTime         datetime64[ns]\n",
      "ThreadDateTime          datetime64[ns]\n",
      "CommentKarma                     int64\n",
      "AdjustedKarma                    int64\n",
      "AdjustedKarmaPercent           float64\n",
      "CommentURL                      object\n",
      "dtype: object\n"
     ]
    },
    {
     "data": {
      "text/html": [
       "<div>\n",
       "<style scoped>\n",
       "    .dataframe tbody tr th:only-of-type {\n",
       "        vertical-align: middle;\n",
       "    }\n",
       "\n",
       "    .dataframe tbody tr th {\n",
       "        vertical-align: top;\n",
       "    }\n",
       "\n",
       "    .dataframe thead th {\n",
       "        text-align: right;\n",
       "    }\n",
       "</style>\n",
       "<table border=\"1\" class=\"dataframe\">\n",
       "  <thead>\n",
       "    <tr style=\"text-align: right;\">\n",
       "      <th></th>\n",
       "      <th>Name</th>\n",
       "      <th>TotalKarma</th>\n",
       "      <th>CommentLength</th>\n",
       "      <th>CommentDateTime</th>\n",
       "      <th>AccountDateTime</th>\n",
       "      <th>ThreadDateTime</th>\n",
       "      <th>CommentKarma</th>\n",
       "      <th>AdjustedKarma</th>\n",
       "      <th>AdjustedKarmaPercent</th>\n",
       "      <th>CommentURL</th>\n",
       "    </tr>\n",
       "  </thead>\n",
       "  <tbody>\n",
       "    <tr>\n",
       "      <th>0</th>\n",
       "      <td>OutsideObserver</td>\n",
       "      <td>90215</td>\n",
       "      <td>62</td>\n",
       "      <td>2022-03-29 15:12:21</td>\n",
       "      <td>2010-03-20 19:59:53</td>\n",
       "      <td>2022-03-29 14:45:31</td>\n",
       "      <td>1</td>\n",
       "      <td>90214</td>\n",
       "      <td>1.108463e-05</td>\n",
       "      <td>https://www.reddit.com/r/politics/comments/tre...</td>\n",
       "    </tr>\n",
       "    <tr>\n",
       "      <th>1</th>\n",
       "      <td>OllieQ25</td>\n",
       "      <td>87272</td>\n",
       "      <td>315</td>\n",
       "      <td>2022-03-29 14:48:18</td>\n",
       "      <td>2020-11-12 10:10:26</td>\n",
       "      <td>2022-03-29 14:45:31</td>\n",
       "      <td>1</td>\n",
       "      <td>87271</td>\n",
       "      <td>1.145843e-05</td>\n",
       "      <td>https://www.reddit.com/r/politics/comments/tre...</td>\n",
       "    </tr>\n",
       "    <tr>\n",
       "      <th>2</th>\n",
       "      <td>M00n</td>\n",
       "      <td>1571516</td>\n",
       "      <td>208</td>\n",
       "      <td>2022-03-29 14:50:04</td>\n",
       "      <td>2007-03-06 21:07:15</td>\n",
       "      <td>2022-03-29 14:45:31</td>\n",
       "      <td>1</td>\n",
       "      <td>1571515</td>\n",
       "      <td>6.363282e-07</td>\n",
       "      <td>https://www.reddit.com/r/politics/comments/tre...</td>\n",
       "    </tr>\n",
       "    <tr>\n",
       "      <th>3</th>\n",
       "      <td>tifanietiberio</td>\n",
       "      <td>23442</td>\n",
       "      <td>16</td>\n",
       "      <td>2022-03-29 15:08:56</td>\n",
       "      <td>2012-02-20 10:11:41</td>\n",
       "      <td>2022-03-29 14:45:31</td>\n",
       "      <td>1</td>\n",
       "      <td>23441</td>\n",
       "      <td>4.265848e-05</td>\n",
       "      <td>https://www.reddit.com/r/politics/comments/tre...</td>\n",
       "    </tr>\n",
       "    <tr>\n",
       "      <th>4</th>\n",
       "      <td>Exocoryak</td>\n",
       "      <td>62765</td>\n",
       "      <td>63</td>\n",
       "      <td>2022-03-29 14:56:19</td>\n",
       "      <td>2017-10-24 02:28:20</td>\n",
       "      <td>2022-03-29 14:45:31</td>\n",
       "      <td>1</td>\n",
       "      <td>62764</td>\n",
       "      <td>1.593245e-05</td>\n",
       "      <td>https://www.reddit.com/r/politics/comments/tre...</td>\n",
       "    </tr>\n",
       "  </tbody>\n",
       "</table>\n",
       "</div>"
      ],
      "text/plain": [
       "              Name  TotalKarma  CommentLength     CommentDateTime  \\\n",
       "0  OutsideObserver       90215             62 2022-03-29 15:12:21   \n",
       "1         OllieQ25       87272            315 2022-03-29 14:48:18   \n",
       "2             M00n     1571516            208 2022-03-29 14:50:04   \n",
       "3   tifanietiberio       23442             16 2022-03-29 15:08:56   \n",
       "4        Exocoryak       62765             63 2022-03-29 14:56:19   \n",
       "\n",
       "      AccountDateTime      ThreadDateTime  CommentKarma  AdjustedKarma  \\\n",
       "0 2010-03-20 19:59:53 2022-03-29 14:45:31             1          90214   \n",
       "1 2020-11-12 10:10:26 2022-03-29 14:45:31             1          87271   \n",
       "2 2007-03-06 21:07:15 2022-03-29 14:45:31             1        1571515   \n",
       "3 2012-02-20 10:11:41 2022-03-29 14:45:31             1          23441   \n",
       "4 2017-10-24 02:28:20 2022-03-29 14:45:31             1          62764   \n",
       "\n",
       "   AdjustedKarmaPercent                                         CommentURL  \n",
       "0          1.108463e-05  https://www.reddit.com/r/politics/comments/tre...  \n",
       "1          1.145843e-05  https://www.reddit.com/r/politics/comments/tre...  \n",
       "2          6.363282e-07  https://www.reddit.com/r/politics/comments/tre...  \n",
       "3          4.265848e-05  https://www.reddit.com/r/politics/comments/tre...  \n",
       "4          1.593245e-05  https://www.reddit.com/r/politics/comments/tre...  "
      ]
     },
     "execution_count": 1,
     "metadata": {},
     "output_type": "execute_result"
    }
   ],
   "source": [
    "import pandas as pd\n",
    "import matplotlib.pyplot as plt\n",
    "import numpy as np\n",
    "from matplotlib import colors\n",
    "from matplotlib.ticker import PercentFormatter\n",
    "from datetime import datetime, timedelta\n",
    "\n",
    "\n",
    "#Reads dataframe from .csv\n",
    "df = pd.read_csv('out.csv')\n",
    "print(len(df))\n",
    "\n",
    "#Changes columns back to DateTime, cleans out AutoModerator posts\n",
    "df = df.astype({'AccountDateTime': 'datetime64', 'CommentDateTime': 'datetime64', 'ThreadDateTime': 'datetime64'})\n",
    "print(df.dtypes)\n",
    "df = df[df['Name'] != 'AutoModerator']\n",
    "\n",
    "df.head()"
   ]
  },
  {
   "cell_type": "markdown",
   "id": "f23a60e2",
   "metadata": {},
   "source": [
    "### Analysis\n",
    "\n",
    "Above is a snippet of the data we will be analyzing. I have been scraping data with RedditReader.ipynb and placing it into a .csv file for this section of the project. I have chosen this method for 2 reasons:\n",
    "    \n",
    "    1) Data scraping can be tedious, as it involves making several requests of the Reddit API and parsing the information\n",
    "    2) This allows the opportunity to analyze data over several days of Reddit threads.\n",
    "\n",
    "This project will analyze the data in a couple of ways, pertaining to the various Karma and times of creations of any comments, comment authors, and Reddit threads.\n",
    "\n",
    "The end goal of these analyses on comments to attempt to ferret out accounts that are considered \"troll\" or \"bot\" accounts. These are accounts that are either automated to post(\"bot\") or ones where people are intentionally posting frequently to get a reaction(\"troll\"). This project is currently in the exploratory phase, however, and will draw no clear conclusions. We will merely be looking at trends in the collected data to see if anything of interest pops up."
   ]
  },
  {
   "cell_type": "code",
   "execution_count": 2,
   "id": "4f4707d1",
   "metadata": {},
   "outputs": [
    {
     "name": "stdout",
     "output_type": "stream",
     "text": [
      "2000\n"
     ]
    },
    {
     "data": {
      "text/html": [
       "<div>\n",
       "<style scoped>\n",
       "    .dataframe tbody tr th:only-of-type {\n",
       "        vertical-align: middle;\n",
       "    }\n",
       "\n",
       "    .dataframe tbody tr th {\n",
       "        vertical-align: top;\n",
       "    }\n",
       "\n",
       "    .dataframe thead th {\n",
       "        text-align: right;\n",
       "    }\n",
       "</style>\n",
       "<table border=\"1\" class=\"dataframe\">\n",
       "  <thead>\n",
       "    <tr style=\"text-align: right;\">\n",
       "      <th></th>\n",
       "      <th>Name</th>\n",
       "      <th>TotalKarma</th>\n",
       "      <th>CommentLength</th>\n",
       "      <th>CommentDateTime</th>\n",
       "      <th>AccountDateTime</th>\n",
       "      <th>ThreadDateTime</th>\n",
       "      <th>CommentKarma</th>\n",
       "      <th>AdjustedKarma</th>\n",
       "      <th>AdjustedKarmaPercent</th>\n",
       "      <th>CommentURL</th>\n",
       "      <th>TimeDifference</th>\n",
       "    </tr>\n",
       "  </thead>\n",
       "  <tbody>\n",
       "    <tr>\n",
       "      <th>962</th>\n",
       "      <td>miked_mv</td>\n",
       "      <td>17335</td>\n",
       "      <td>87</td>\n",
       "      <td>2022-03-29 08:16:10</td>\n",
       "      <td>2012-02-24 10:57:04</td>\n",
       "      <td>2022-03-29 08:15:39</td>\n",
       "      <td>1262</td>\n",
       "      <td>16073</td>\n",
       "      <td>0.072801</td>\n",
       "      <td>https://www.reddit.com/r/politics/comments/tqy...</td>\n",
       "      <td>0 days 00:00:31</td>\n",
       "    </tr>\n",
       "    <tr>\n",
       "      <th>1946</th>\n",
       "      <td>washingtonpost</td>\n",
       "      <td>353586</td>\n",
       "      <td>1101</td>\n",
       "      <td>2022-03-29 10:22:36</td>\n",
       "      <td>2017-04-20 17:23:58</td>\n",
       "      <td>2022-03-29 10:21:49</td>\n",
       "      <td>10</td>\n",
       "      <td>353576</td>\n",
       "      <td>0.000028</td>\n",
       "      <td>https://www.reddit.com/r/politics/comments/tr0...</td>\n",
       "      <td>0 days 00:00:47</td>\n",
       "    </tr>\n",
       "    <tr>\n",
       "      <th>438</th>\n",
       "      <td>Souled_Out</td>\n",
       "      <td>14904</td>\n",
       "      <td>2209</td>\n",
       "      <td>2022-03-29 09:50:10</td>\n",
       "      <td>2013-01-12 16:48:02</td>\n",
       "      <td>2022-03-29 09:49:23</td>\n",
       "      <td>523</td>\n",
       "      <td>14381</td>\n",
       "      <td>0.035091</td>\n",
       "      <td>https://www.reddit.com/r/politics/comments/tr0...</td>\n",
       "      <td>0 days 00:00:47</td>\n",
       "    </tr>\n",
       "    <tr>\n",
       "      <th>1335</th>\n",
       "      <td>roughingupthesuspect</td>\n",
       "      <td>238657</td>\n",
       "      <td>37</td>\n",
       "      <td>2022-03-29 12:43:30</td>\n",
       "      <td>2019-11-08 06:34:00</td>\n",
       "      <td>2022-03-29 12:42:37</td>\n",
       "      <td>87</td>\n",
       "      <td>238570</td>\n",
       "      <td>0.000365</td>\n",
       "      <td>https://www.reddit.com/r/politics/comments/tr7...</td>\n",
       "      <td>0 days 00:00:53</td>\n",
       "    </tr>\n",
       "    <tr>\n",
       "      <th>857</th>\n",
       "      <td>greg_botts</td>\n",
       "      <td>2594</td>\n",
       "      <td>43</td>\n",
       "      <td>2022-03-29 14:28:40</td>\n",
       "      <td>2019-06-10 11:34:39</td>\n",
       "      <td>2022-03-29 14:27:37</td>\n",
       "      <td>107</td>\n",
       "      <td>2487</td>\n",
       "      <td>0.041249</td>\n",
       "      <td>https://www.reddit.com/r/politics/comments/trd...</td>\n",
       "      <td>0 days 00:01:03</td>\n",
       "    </tr>\n",
       "    <tr>\n",
       "      <th>...</th>\n",
       "      <td>...</td>\n",
       "      <td>...</td>\n",
       "      <td>...</td>\n",
       "      <td>...</td>\n",
       "      <td>...</td>\n",
       "      <td>...</td>\n",
       "      <td>...</td>\n",
       "      <td>...</td>\n",
       "      <td>...</td>\n",
       "      <td>...</td>\n",
       "      <td>...</td>\n",
       "    </tr>\n",
       "    <tr>\n",
       "      <th>1336</th>\n",
       "      <td>Banjoplaya420</td>\n",
       "      <td>7539</td>\n",
       "      <td>72</td>\n",
       "      <td>2022-03-29 12:53:40</td>\n",
       "      <td>2020-04-16 11:39:39</td>\n",
       "      <td>2022-03-29 12:42:37</td>\n",
       "      <td>30</td>\n",
       "      <td>7509</td>\n",
       "      <td>0.003979</td>\n",
       "      <td>https://www.reddit.com/r/politics/comments/tr7...</td>\n",
       "      <td>0 days 00:11:03</td>\n",
       "    </tr>\n",
       "    <tr>\n",
       "      <th>1516</th>\n",
       "      <td>brain_overclocked</td>\n",
       "      <td>101041</td>\n",
       "      <td>447</td>\n",
       "      <td>2022-03-29 19:38:50</td>\n",
       "      <td>2017-06-02 01:02:01</td>\n",
       "      <td>2022-03-29 19:27:44</td>\n",
       "      <td>1</td>\n",
       "      <td>101040</td>\n",
       "      <td>0.000010</td>\n",
       "      <td>https://www.reddit.com/r/politics/comments/trs...</td>\n",
       "      <td>0 days 00:11:06</td>\n",
       "    </tr>\n",
       "    <tr>\n",
       "      <th>1407</th>\n",
       "      <td>Thannyc</td>\n",
       "      <td>361</td>\n",
       "      <td>332</td>\n",
       "      <td>2022-03-29 19:00:43</td>\n",
       "      <td>2020-09-08 02:59:21</td>\n",
       "      <td>2022-03-29 18:49:25</td>\n",
       "      <td>1</td>\n",
       "      <td>360</td>\n",
       "      <td>0.002770</td>\n",
       "      <td>https://www.reddit.com/r/politics/comments/trs...</td>\n",
       "      <td>0 days 00:11:18</td>\n",
       "    </tr>\n",
       "    <tr>\n",
       "      <th>705</th>\n",
       "      <td>morning6am</td>\n",
       "      <td>8603</td>\n",
       "      <td>35</td>\n",
       "      <td>2022-03-29 08:28:35</td>\n",
       "      <td>2019-02-05 07:55:15</td>\n",
       "      <td>2022-03-29 08:16:32</td>\n",
       "      <td>38</td>\n",
       "      <td>8565</td>\n",
       "      <td>0.004417</td>\n",
       "      <td>https://www.reddit.com/r/politics/comments/tqy...</td>\n",
       "      <td>0 days 00:12:03</td>\n",
       "    </tr>\n",
       "    <tr>\n",
       "      <th>678</th>\n",
       "      <td>SSHeretic</td>\n",
       "      <td>957522</td>\n",
       "      <td>41</td>\n",
       "      <td>2022-03-29 08:28:40</td>\n",
       "      <td>2008-07-27 16:38:23</td>\n",
       "      <td>2022-03-29 08:16:32</td>\n",
       "      <td>1776</td>\n",
       "      <td>955746</td>\n",
       "      <td>0.001855</td>\n",
       "      <td>https://www.reddit.com/r/politics/comments/tqy...</td>\n",
       "      <td>0 days 00:12:08</td>\n",
       "    </tr>\n",
       "  </tbody>\n",
       "</table>\n",
       "<p>100 rows × 11 columns</p>\n",
       "</div>"
      ],
      "text/plain": [
       "                      Name  TotalKarma  CommentLength     CommentDateTime  \\\n",
       "962               miked_mv       17335             87 2022-03-29 08:16:10   \n",
       "1946        washingtonpost      353586           1101 2022-03-29 10:22:36   \n",
       "438             Souled_Out       14904           2209 2022-03-29 09:50:10   \n",
       "1335  roughingupthesuspect      238657             37 2022-03-29 12:43:30   \n",
       "857             greg_botts        2594             43 2022-03-29 14:28:40   \n",
       "...                    ...         ...            ...                 ...   \n",
       "1336         Banjoplaya420        7539             72 2022-03-29 12:53:40   \n",
       "1516     brain_overclocked      101041            447 2022-03-29 19:38:50   \n",
       "1407               Thannyc         361            332 2022-03-29 19:00:43   \n",
       "705             morning6am        8603             35 2022-03-29 08:28:35   \n",
       "678              SSHeretic      957522             41 2022-03-29 08:28:40   \n",
       "\n",
       "         AccountDateTime      ThreadDateTime  CommentKarma  AdjustedKarma  \\\n",
       "962  2012-02-24 10:57:04 2022-03-29 08:15:39          1262          16073   \n",
       "1946 2017-04-20 17:23:58 2022-03-29 10:21:49            10         353576   \n",
       "438  2013-01-12 16:48:02 2022-03-29 09:49:23           523          14381   \n",
       "1335 2019-11-08 06:34:00 2022-03-29 12:42:37            87         238570   \n",
       "857  2019-06-10 11:34:39 2022-03-29 14:27:37           107           2487   \n",
       "...                  ...                 ...           ...            ...   \n",
       "1336 2020-04-16 11:39:39 2022-03-29 12:42:37            30           7509   \n",
       "1516 2017-06-02 01:02:01 2022-03-29 19:27:44             1         101040   \n",
       "1407 2020-09-08 02:59:21 2022-03-29 18:49:25             1            360   \n",
       "705  2019-02-05 07:55:15 2022-03-29 08:16:32            38           8565   \n",
       "678  2008-07-27 16:38:23 2022-03-29 08:16:32          1776         955746   \n",
       "\n",
       "      AdjustedKarmaPercent                                         CommentURL  \\\n",
       "962               0.072801  https://www.reddit.com/r/politics/comments/tqy...   \n",
       "1946              0.000028  https://www.reddit.com/r/politics/comments/tr0...   \n",
       "438               0.035091  https://www.reddit.com/r/politics/comments/tr0...   \n",
       "1335              0.000365  https://www.reddit.com/r/politics/comments/tr7...   \n",
       "857               0.041249  https://www.reddit.com/r/politics/comments/trd...   \n",
       "...                    ...                                                ...   \n",
       "1336              0.003979  https://www.reddit.com/r/politics/comments/tr7...   \n",
       "1516              0.000010  https://www.reddit.com/r/politics/comments/trs...   \n",
       "1407              0.002770  https://www.reddit.com/r/politics/comments/trs...   \n",
       "705               0.004417  https://www.reddit.com/r/politics/comments/tqy...   \n",
       "678               0.001855  https://www.reddit.com/r/politics/comments/tqy...   \n",
       "\n",
       "      TimeDifference  \n",
       "962  0 days 00:00:31  \n",
       "1946 0 days 00:00:47  \n",
       "438  0 days 00:00:47  \n",
       "1335 0 days 00:00:53  \n",
       "857  0 days 00:01:03  \n",
       "...              ...  \n",
       "1336 0 days 00:11:03  \n",
       "1516 0 days 00:11:06  \n",
       "1407 0 days 00:11:18  \n",
       "705  0 days 00:12:03  \n",
       "678  0 days 00:12:08  \n",
       "\n",
       "[100 rows x 11 columns]"
      ]
     },
     "execution_count": 2,
     "metadata": {},
     "output_type": "execute_result"
    }
   ],
   "source": [
    "\n",
    "\n",
    "df['TimeDifference'] = df['CommentDateTime'] - df['ThreadDateTime']\n",
    "sortByPostSpeed = df.sort_values(by = ['TimeDifference'])\n",
    "print(len(sortByPostSpeed))\n",
    "sortByPostSpeed.head(100)"
   ]
  },
  {
   "cell_type": "code",
   "execution_count": 3,
   "id": "4e451bc5",
   "metadata": {},
   "outputs": [],
   "source": [
    "\n",
    "today = datetime.now()\n",
    "start_date = today - timedelta(days = 30)\n",
    "end_date = today\n",
    "\n",
    "sortdf = df.sort_values(by=['AccountDateTime'])\n",
    "\n"
   ]
  },
  {
   "cell_type": "markdown",
   "id": "77156512",
   "metadata": {},
   "source": [
    "Below, we are looking at comments sorted by post speed. Comments to the left were posted in the shortest amount of time after the thread wass posted. Unsurprisingly, these comments have the most variance. I have color coded the scatter plot to change based on earned comment karma."
   ]
  },
  {
   "cell_type": "code",
   "execution_count": 4,
   "id": "def0d9b7",
   "metadata": {},
   "outputs": [
    {
     "data": {
      "image/png": "[encoded data removed]",
      "text/plain": [
       "<Figure size 432x288 with 2 Axes>"
      ]
     },
     "metadata": {
      "needs_background": "light"
     },
     "output_type": "display_data"
    }
   ],
   "source": [
    "sortByPostSpeed['TotalMinutes'] = sortByPostSpeed['TimeDifference'] / pd.to_timedelta(1, unit = 'm')\n",
    "\n",
    "FastComments = sortByPostSpeed.plot.scatter(x='TotalMinutes', y='AdjustedKarmaPercent', c = 'CommentKarma',\n",
    "                                            colormap='viridis')"
   ]
  },
  {
   "cell_type": "markdown",
   "id": "9f439732",
   "metadata": {},
   "source": [
    "This is a quick look at the shape of comments from accounts created within the last 30 days, comparing their comment Karma to their date creation."
   ]
  },
  {
   "cell_type": "code",
   "execution_count": 5,
   "id": "b91043a3",
   "metadata": {},
   "outputs": [
    {
     "name": "stdout",
     "output_type": "stream",
     "text": [
      "54\n"
     ]
    },
    {
     "data": {
      "image/png": "[encoded data removed]",
      "text/plain": [
       "<Figure size 432x288 with 2 Axes>"
      ]
     },
     "metadata": {
      "needs_background": "light"
     },
     "output_type": "display_data"
    }
   ],
   "source": [
    "condition = (sortdf['AccountDateTime'] >= start_date) & (sortdf['AccountDateTime'] <= end_date)\n",
    "newAccounts = sortdf.loc[condition]\n",
    "print(len(newAccounts))\n",
    "newAccounts.head(100)\n",
    "\n",
    "NewAccounts = newAccounts.plot.scatter(x='AccountDateTime', y='CommentKarma', c='AdjustedKarmaPercent', \n",
    "                                       logy = True, colormap='viridis')"
   ]
  },
  {
   "cell_type": "markdown",
   "id": "90c306ed",
   "metadata": {},
   "source": [
    "Here we can see all accounts that started the thread with negative karma. These are accounts I would initially expect to be troll or bot accounts, as maintaining a negative karma on Reddit...can take some work. That or one REALLY downvoted post. I'll print a couple URL's to the comment links, in order to see what kind of comments they are. \n",
    "\n",
    "WARNING: This is done in a live Reddit environment, I have no control over the data. The possibility for hateful, NSFW, or outright illegal comments is very likely. I assume no responsibility for the results. FOLLOW THESE LINKS AT YOUR OWN RISK!!!"
   ]
  },
  {
   "cell_type": "code",
   "execution_count": 6,
   "id": "64f84ae3",
   "metadata": {},
   "outputs": [
    {
     "name": "stdout",
     "output_type": "stream",
     "text": [
      "32\n"
     ]
    },
    {
     "data": {
      "text/plain": [
       "532     https://www.reddit.com/r/politics/comments/tr06li/ocasiocortez_to_clarence_thomas_resign_or_face/i2npn1t/\n",
       "1249          https://www.reddit.com/r/politics/comments/tr29lf/congressional_candidate_who_defied_covid/i2mp89j/\n",
       "557     https://www.reddit.com/r/politics/comments/tr06li/ocasiocortez_to_clarence_thomas_resign_or_face/i2nmbmf/\n",
       "887     https://www.reddit.com/r/politics/comments/trdrhr/clarence_thomas_has_recused_himself_from_cases/i2nd3a5/\n",
       "828      https://www.reddit.com/r/politics/comments/tqyg41/joe_biden_calls_fox_reporter_silly_for_asking/i2n2jfp/\n",
       "Name: CommentURL, dtype: object"
      ]
     },
     "execution_count": 6,
     "metadata": {},
     "output_type": "execute_result"
    }
   ],
   "source": [
    "pd.set_option('display.max_colwidth', None)\n",
    "condition = (sortByPostSpeed['AdjustedKarma'] < 0)\n",
    "\n",
    "\n",
    "negativeKarma = sortByPostSpeed.loc[condition]\n",
    "print(len(negativeKarma))\n",
    "sample = negativeKarma.sample(n = 5)\n",
    "sample['CommentURL']"
   ]
  },
  {
   "cell_type": "markdown",
   "id": "8746e66e",
   "metadata": {},
   "source": [
    "The above query often results in toxic comments. This is to be expected from accounts with a low Karma rating. Let's look at a few of the highest Karma comments; hopefully they will provide more uplifting results."
   ]
  },
  {
   "cell_type": "code",
   "execution_count": 7,
   "id": "da3892e6",
   "metadata": {},
   "outputs": [
    {
     "data": {
      "text/plain": [
       "889       https://www.reddit.com/r/politics/comments/tqxa6i/white_house_records_turned_over_to_house_show/i2jxdiz/\n",
       "7      https://www.reddit.com/r/politics/comments/tr7hoz/trump_asks_putin_to_provide_dirt_on_hunter_biden/i2l3rvy/\n",
       "893       https://www.reddit.com/r/politics/comments/tqxa6i/white_house_records_turned_over_to_house_show/i2jv5vh/\n",
       "891       https://www.reddit.com/r/politics/comments/tqxa6i/white_house_records_turned_over_to_house_show/i2jxor9/\n",
       "676       https://www.reddit.com/r/politics/comments/tqyg41/joe_biden_calls_fox_reporter_silly_for_asking/i2k09fr/\n",
       "Name: CommentURL, dtype: object"
      ]
     },
     "execution_count": 7,
     "metadata": {},
     "output_type": "execute_result"
    }
   ],
   "source": [
    "largestdf = df.nlargest(5, 'CommentKarma')\n",
    "largestdf.head()\n",
    "largestdf['CommentURL']"
   ]
  },
  {
   "cell_type": "markdown",
   "id": "a74f14b0",
   "metadata": {},
   "source": [
    "## Conclusion\n",
    "\n",
    "I have run a very limited number of queries of the past 2 cells, but both of them seem to share the same qualities:\n",
    "\n",
    "    1) short comments\n",
    "    2) pointed(borderline toxic) comments\n",
    "    \n",
    "It is hard to point to any of these accounts being \"bots\"(which was my original) intent; but I think it speaks very clearly to the nature of communication on the internet. \"Hot takes\", or short, often derisive comments, seem to be the king at the upper and lower end of the spectrum. I will need to do further research to try to suss out which accounts are \"bots\", but it seems a lot of them would be considered \"troll\" accounts. I have been looking at their post histories, and in general these accounts seem to post short, pointed comments. \n",
    "It could be that this is the nature of communication on the internet: it takes a lot more work to post a long, thought out comment, and by nature people may simply do that less on average. It could also be that the accounts at the upper and lower ends of the spectrum have more nefarious means than communication. \n",
    "\n",
    "I do not know if this is an answer I am capable of finding, but I hope to do future work on this project with the intent of making more scientific analyses of the information at hand."
   ]
  },
  {
   "cell_type": "code",
   "execution_count": null,
   "id": "117bb687",
   "metadata": {},
   "outputs": [],
   "source": []
  }
 ],
 "metadata": {
  "kernelspec": {
   "display_name": "Python (RedditReader)",
   "language": "python",
   "name": "redditreader"
  },
  "language_info": {
   "codemirror_mode": {
    "name": "ipython",
    "version": 3
   },
   "file_extension": ".py",
   "mimetype": "text/x-python",
   "name": "python",
   "nbconvert_exporter": "python",
   "pygments_lexer": "ipython3",
   "version": "3.9.7"
  }
 },
 "nbformat": 4,
 "nbformat_minor": 5
}
