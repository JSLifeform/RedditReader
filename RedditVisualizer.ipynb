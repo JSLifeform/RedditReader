{
 "cells": [
  {
   "cell_type": "markdown",
   "id": "f70e8e67",
   "metadata": {},
   "source": [
    "# Reddit r/politics/hot top comment analyses\n",
    "\n",
    "Reddit is an extremely popular online forum, ranking as #23 in internet traffic engagement(according to https://www.alexa.com/siteinfo/reddit.com). It is broken into subreddits, shortcut as r/, where users can post relevant links, images, videos, or simply text posts relevant to the particular subreddit. These posts are sometimes called threads. Other users may then reply to these threads with comments. This allows other users to reply to their comments, allowing for robust(occasionally), informative(sometimes), interesting(inane?) and diverse(hah!) conversation. \n",
    "\n",
    "All users registered to Reddit may upvote or downvote any thread or comment on the site, creating a score for each item. This score is known as Karma. Reddit also tracks the total Karma for each user (the cumulative of their earned karma from their posts comments). \n",
    "\n",
    "The purpose of this project is to analyze the top comments in trending  threads from the r/politics subreddit, in the section known as hot/. Put all of this together, and you get the URL of the site we are scraping for data: https://www.reddit.com/r/politics/hot."
   ]
  },
  {
   "cell_type": "code",
   "execution_count": 1,
   "id": "6814c2f6",
   "metadata": {},
   "outputs": [
    {
     "name": "stdout",
     "output_type": "stream",
     "text": [
      "1698\n",
      "Name                            object\n",
      "TotalKarma                       int64\n",
      "CommentLength                    int64\n",
      "CommentDateTime         datetime64[ns]\n",
      "AccountDateTime         datetime64[ns]\n",
      "ThreadDateTime          datetime64[ns]\n",
      "CommentKarma                     int64\n",
      "AdjustedKarma                    int64\n",
      "AdjustedKarmaPercent           float64\n",
      "CommentURL                      object\n",
      "dtype: object\n"
     ]
    },
    {
     "data": {
      "text/html": [
       "<div>\n",
       "<style scoped>\n",
       "    .dataframe tbody tr th:only-of-type {\n",
       "        vertical-align: middle;\n",
       "    }\n",
       "\n",
       "    .dataframe tbody tr th {\n",
       "        vertical-align: top;\n",
       "    }\n",
       "\n",
       "    .dataframe thead th {\n",
       "        text-align: right;\n",
       "    }\n",
       "</style>\n",
       "<table border=\"1\" class=\"dataframe\">\n",
       "  <thead>\n",
       "    <tr style=\"text-align: right;\">\n",
       "      <th></th>\n",
       "      <th>Name</th>\n",
       "      <th>TotalKarma</th>\n",
       "      <th>CommentLength</th>\n",
       "      <th>CommentDateTime</th>\n",
       "      <th>AccountDateTime</th>\n",
       "      <th>ThreadDateTime</th>\n",
       "      <th>CommentKarma</th>\n",
       "      <th>AdjustedKarma</th>\n",
       "      <th>AdjustedKarmaPercent</th>\n",
       "      <th>CommentURL</th>\n",
       "    </tr>\n",
       "  </thead>\n",
       "  <tbody>\n",
       "    <tr>\n",
       "      <th>0</th>\n",
       "      <td>Alauren2</td>\n",
       "      <td>55500</td>\n",
       "      <td>296</td>\n",
       "      <td>2022-03-28 13:56:26</td>\n",
       "      <td>2016-12-19 16:11:09</td>\n",
       "      <td>2022-03-28 13:15:18</td>\n",
       "      <td>231</td>\n",
       "      <td>55269</td>\n",
       "      <td>0.004162</td>\n",
       "      <td>https://www.reddit.com/r/politics/comments/tqe...</td>\n",
       "    </tr>\n",
       "    <tr>\n",
       "      <th>1</th>\n",
       "      <td>Summebride</td>\n",
       "      <td>125470</td>\n",
       "      <td>392</td>\n",
       "      <td>2022-03-28 15:00:13</td>\n",
       "      <td>2020-02-19 17:49:10</td>\n",
       "      <td>2022-03-28 13:15:18</td>\n",
       "      <td>1</td>\n",
       "      <td>125469</td>\n",
       "      <td>0.000008</td>\n",
       "      <td>https://www.reddit.com/r/politics/comments/tqe...</td>\n",
       "    </tr>\n",
       "    <tr>\n",
       "      <th>2</th>\n",
       "      <td>24identity</td>\n",
       "      <td>12170</td>\n",
       "      <td>80</td>\n",
       "      <td>2022-03-28 13:52:04</td>\n",
       "      <td>2017-10-30 09:00:29</td>\n",
       "      <td>2022-03-28 13:15:18</td>\n",
       "      <td>819</td>\n",
       "      <td>11351</td>\n",
       "      <td>0.067297</td>\n",
       "      <td>https://www.reddit.com/r/politics/comments/tqe...</td>\n",
       "    </tr>\n",
       "    <tr>\n",
       "      <th>3</th>\n",
       "      <td>Gambit08</td>\n",
       "      <td>260748</td>\n",
       "      <td>269</td>\n",
       "      <td>2022-03-28 13:34:21</td>\n",
       "      <td>2013-09-21 01:59:53</td>\n",
       "      <td>2022-03-28 13:15:18</td>\n",
       "      <td>459</td>\n",
       "      <td>260289</td>\n",
       "      <td>0.001760</td>\n",
       "      <td>https://www.reddit.com/r/politics/comments/tqe...</td>\n",
       "    </tr>\n",
       "    <tr>\n",
       "      <th>4</th>\n",
       "      <td>captaincanada84</td>\n",
       "      <td>228867</td>\n",
       "      <td>446</td>\n",
       "      <td>2022-03-28 14:22:35</td>\n",
       "      <td>2012-10-09 21:44:28</td>\n",
       "      <td>2022-03-28 13:15:18</td>\n",
       "      <td>1</td>\n",
       "      <td>228866</td>\n",
       "      <td>0.000004</td>\n",
       "      <td>https://www.reddit.com/r/politics/comments/tqe...</td>\n",
       "    </tr>\n",
       "  </tbody>\n",
       "</table>\n",
       "</div>"
      ],
      "text/plain": [
       "              Name  TotalKarma  CommentLength     CommentDateTime  \\\n",
       "0         Alauren2       55500            296 2022-03-28 13:56:26   \n",
       "1       Summebride      125470            392 2022-03-28 15:00:13   \n",
       "2       24identity       12170             80 2022-03-28 13:52:04   \n",
       "3         Gambit08      260748            269 2022-03-28 13:34:21   \n",
       "4  captaincanada84      228867            446 2022-03-28 14:22:35   \n",
       "\n",
       "      AccountDateTime      ThreadDateTime  CommentKarma  AdjustedKarma  \\\n",
       "0 2016-12-19 16:11:09 2022-03-28 13:15:18           231          55269   \n",
       "1 2020-02-19 17:49:10 2022-03-28 13:15:18             1         125469   \n",
       "2 2017-10-30 09:00:29 2022-03-28 13:15:18           819          11351   \n",
       "3 2013-09-21 01:59:53 2022-03-28 13:15:18           459         260289   \n",
       "4 2012-10-09 21:44:28 2022-03-28 13:15:18             1         228866   \n",
       "\n",
       "   AdjustedKarmaPercent                                         CommentURL  \n",
       "0              0.004162  https://www.reddit.com/r/politics/comments/tqe...  \n",
       "1              0.000008  https://www.reddit.com/r/politics/comments/tqe...  \n",
       "2              0.067297  https://www.reddit.com/r/politics/comments/tqe...  \n",
       "3              0.001760  https://www.reddit.com/r/politics/comments/tqe...  \n",
       "4              0.000004  https://www.reddit.com/r/politics/comments/tqe...  "
      ]
     },
     "execution_count": 1,
     "metadata": {},
     "output_type": "execute_result"
    }
   ],
   "source": [
    "import pandas as pd\n",
    "import matplotlib.pyplot as plt\n",
    "import numpy as np\n",
    "from matplotlib import colors\n",
    "from matplotlib.ticker import PercentFormatter\n",
    "from datetime import datetime, timedelta\n",
    "\n",
    "\n",
    "#Reads dataframe from .csv\n",
    "df = pd.read_csv('out.csv')\n",
    "print(len(df))\n",
    "\n",
    "#Changes columns back to DateTime, cleans out AutoModerator posts\n",
    "df = df.astype({'AccountDateTime': 'datetime64', 'CommentDateTime': 'datetime64', 'ThreadDateTime': 'datetime64'})\n",
    "print(df.dtypes)\n",
    "df = df[df['Name'] != 'AutoModerator']\n",
    "\n",
    "df.head()"
   ]
  },
  {
   "cell_type": "markdown",
   "id": "f23a60e2",
   "metadata": {},
   "source": [
    "### Analysis\n",
    "\n",
    "Above is a snippet of the data we will be analyzing. I have been scraping data with RedditReader.ipynb and placing it into a .csv file for this section of the project. I have chosen this method for 2 reasons:\n",
    "    \n",
    "    1) Data scraping can be tedious, as it involves making several requests of the Reddit API and parsing the information\n",
    "    2) This allows the opportunity to analyze data over several days of Reddit threads.\n",
    "\n",
    "This project will analyze the data in a couple of ways, pertaining to the various Karma and times of creations of any comments, comment authors, and Reddit threads.\n",
    "\n",
    "The end goal of these analyses on comments to attempt to ferret out accounts that are considered \"troll\" or \"bot\" accounts. These are accounts that are either automated to post(\"bot\") or ones where people are intentionally posting frequently to get a reaction(\"troll\"). This project is currently in the exploratory phase, however, and will draw no clear conclusions. We will merely be looking at trends in the collected data to see if anything of interest pops up."
   ]
  },
  {
   "cell_type": "code",
   "execution_count": 2,
   "id": "4f4707d1",
   "metadata": {},
   "outputs": [
    {
     "name": "stdout",
     "output_type": "stream",
     "text": [
      "1675\n"
     ]
    },
    {
     "data": {
      "text/html": [
       "<div>\n",
       "<style scoped>\n",
       "    .dataframe tbody tr th:only-of-type {\n",
       "        vertical-align: middle;\n",
       "    }\n",
       "\n",
       "    .dataframe tbody tr th {\n",
       "        vertical-align: top;\n",
       "    }\n",
       "\n",
       "    .dataframe thead th {\n",
       "        text-align: right;\n",
       "    }\n",
       "</style>\n",
       "<table border=\"1\" class=\"dataframe\">\n",
       "  <thead>\n",
       "    <tr style=\"text-align: right;\">\n",
       "      <th></th>\n",
       "      <th>Name</th>\n",
       "      <th>TotalKarma</th>\n",
       "      <th>CommentLength</th>\n",
       "      <th>CommentDateTime</th>\n",
       "      <th>AccountDateTime</th>\n",
       "      <th>ThreadDateTime</th>\n",
       "      <th>CommentKarma</th>\n",
       "      <th>AdjustedKarma</th>\n",
       "      <th>AdjustedKarmaPercent</th>\n",
       "      <th>CommentURL</th>\n",
       "      <th>TimeDifference</th>\n",
       "    </tr>\n",
       "  </thead>\n",
       "  <tbody>\n",
       "    <tr>\n",
       "      <th>1659</th>\n",
       "      <td>AmericaMasked</td>\n",
       "      <td>3451</td>\n",
       "      <td>14</td>\n",
       "      <td>2022-03-28 07:48:46</td>\n",
       "      <td>2021-07-29 11:04:47</td>\n",
       "      <td>2022-03-28 07:48:03</td>\n",
       "      <td>1</td>\n",
       "      <td>3450</td>\n",
       "      <td>2.897711e-04</td>\n",
       "      <td>https://www.reddit.com/r/politics/comments/tq7...</td>\n",
       "      <td>0 days 00:00:43</td>\n",
       "    </tr>\n",
       "    <tr>\n",
       "      <th>578</th>\n",
       "      <td>icenoid</td>\n",
       "      <td>106478</td>\n",
       "      <td>4</td>\n",
       "      <td>2022-03-28 09:49:18</td>\n",
       "      <td>2017-12-06 07:39:13</td>\n",
       "      <td>2022-03-28 09:48:29</td>\n",
       "      <td>20</td>\n",
       "      <td>106458</td>\n",
       "      <td>1.878322e-04</td>\n",
       "      <td>https://www.reddit.com/r/politics/comments/tq9...</td>\n",
       "      <td>0 days 00:00:49</td>\n",
       "    </tr>\n",
       "    <tr>\n",
       "      <th>1432</th>\n",
       "      <td>rabbitlarva</td>\n",
       "      <td>701</td>\n",
       "      <td>2</td>\n",
       "      <td>2022-03-28 18:38:51</td>\n",
       "      <td>2018-10-09 23:03:17</td>\n",
       "      <td>2022-03-28 18:37:56</td>\n",
       "      <td>1</td>\n",
       "      <td>700</td>\n",
       "      <td>1.426534e-03</td>\n",
       "      <td>https://www.reddit.com/r/politics/comments/tql...</td>\n",
       "      <td>0 days 00:00:55</td>\n",
       "    </tr>\n",
       "    <tr>\n",
       "      <th>566</th>\n",
       "      <td>Souled_Out</td>\n",
       "      <td>13419</td>\n",
       "      <td>6136</td>\n",
       "      <td>2022-03-28 09:49:26</td>\n",
       "      <td>2013-01-12 16:48:02</td>\n",
       "      <td>2022-03-28 09:48:29</td>\n",
       "      <td>198</td>\n",
       "      <td>13221</td>\n",
       "      <td>1.475520e-02</td>\n",
       "      <td>https://www.reddit.com/r/politics/comments/tq9...</td>\n",
       "      <td>0 days 00:00:57</td>\n",
       "    </tr>\n",
       "    <tr>\n",
       "      <th>878</th>\n",
       "      <td>thenewrepublic</td>\n",
       "      <td>9479</td>\n",
       "      <td>280</td>\n",
       "      <td>2022-03-28 10:46:18</td>\n",
       "      <td>2021-04-01 16:11:39</td>\n",
       "      <td>2022-03-28 10:45:19</td>\n",
       "      <td>233</td>\n",
       "      <td>9246</td>\n",
       "      <td>2.458065e-02</td>\n",
       "      <td>https://www.reddit.com/r/politics/comments/tqa...</td>\n",
       "      <td>0 days 00:00:59</td>\n",
       "    </tr>\n",
       "    <tr>\n",
       "      <th>...</th>\n",
       "      <td>...</td>\n",
       "      <td>...</td>\n",
       "      <td>...</td>\n",
       "      <td>...</td>\n",
       "      <td>...</td>\n",
       "      <td>...</td>\n",
       "      <td>...</td>\n",
       "      <td>...</td>\n",
       "      <td>...</td>\n",
       "      <td>...</td>\n",
       "      <td>...</td>\n",
       "    </tr>\n",
       "    <tr>\n",
       "      <th>1332</th>\n",
       "      <td>FalstaffsMind</td>\n",
       "      <td>1204694</td>\n",
       "      <td>11</td>\n",
       "      <td>2022-03-28 15:50:31</td>\n",
       "      <td>2013-12-04 15:42:33</td>\n",
       "      <td>2022-03-28 15:34:42</td>\n",
       "      <td>1</td>\n",
       "      <td>1204693</td>\n",
       "      <td>8.300863e-07</td>\n",
       "      <td>https://www.reddit.com/r/politics/comments/tqh...</td>\n",
       "      <td>0 days 00:15:49</td>\n",
       "    </tr>\n",
       "    <tr>\n",
       "      <th>1441</th>\n",
       "      <td>iamagoldking</td>\n",
       "      <td>1003</td>\n",
       "      <td>35</td>\n",
       "      <td>2022-03-28 18:53:50</td>\n",
       "      <td>2021-04-05 16:01:19</td>\n",
       "      <td>2022-03-28 18:37:56</td>\n",
       "      <td>1</td>\n",
       "      <td>1002</td>\n",
       "      <td>9.970090e-04</td>\n",
       "      <td>https://www.reddit.com/r/politics/comments/tql...</td>\n",
       "      <td>0 days 00:15:54</td>\n",
       "    </tr>\n",
       "    <tr>\n",
       "      <th>1128</th>\n",
       "      <td>Hayes4prez</td>\n",
       "      <td>138420</td>\n",
       "      <td>51</td>\n",
       "      <td>2022-03-28 20:00:20</td>\n",
       "      <td>2012-04-27 10:48:23</td>\n",
       "      <td>2022-03-28 19:44:07</td>\n",
       "      <td>1</td>\n",
       "      <td>138419</td>\n",
       "      <td>7.224390e-06</td>\n",
       "      <td>https://www.reddit.com/r/politics/comments/tqm...</td>\n",
       "      <td>0 days 00:16:13</td>\n",
       "    </tr>\n",
       "    <tr>\n",
       "      <th>1058</th>\n",
       "      <td>Joneszey</td>\n",
       "      <td>35435</td>\n",
       "      <td>875</td>\n",
       "      <td>2022-03-28 19:02:54</td>\n",
       "      <td>2014-12-12 21:33:49</td>\n",
       "      <td>2022-03-28 18:46:39</td>\n",
       "      <td>1</td>\n",
       "      <td>35434</td>\n",
       "      <td>2.822069e-05</td>\n",
       "      <td>https://www.reddit.com/r/politics/comments/tql...</td>\n",
       "      <td>0 days 00:16:15</td>\n",
       "    </tr>\n",
       "    <tr>\n",
       "      <th>1399</th>\n",
       "      <td>Oregon687</td>\n",
       "      <td>43766</td>\n",
       "      <td>84</td>\n",
       "      <td>2022-03-28 12:14:01</td>\n",
       "      <td>2020-08-12 14:26:40</td>\n",
       "      <td>2022-03-28 11:57:28</td>\n",
       "      <td>0</td>\n",
       "      <td>43766</td>\n",
       "      <td>0.000000e+00</td>\n",
       "      <td>https://www.reddit.com/r/politics/comments/tqc...</td>\n",
       "      <td>0 days 00:16:33</td>\n",
       "    </tr>\n",
       "  </tbody>\n",
       "</table>\n",
       "<p>100 rows × 11 columns</p>\n",
       "</div>"
      ],
      "text/plain": [
       "                Name  TotalKarma  CommentLength     CommentDateTime  \\\n",
       "1659   AmericaMasked        3451             14 2022-03-28 07:48:46   \n",
       "578          icenoid      106478              4 2022-03-28 09:49:18   \n",
       "1432     rabbitlarva         701              2 2022-03-28 18:38:51   \n",
       "566       Souled_Out       13419           6136 2022-03-28 09:49:26   \n",
       "878   thenewrepublic        9479            280 2022-03-28 10:46:18   \n",
       "...              ...         ...            ...                 ...   \n",
       "1332   FalstaffsMind     1204694             11 2022-03-28 15:50:31   \n",
       "1441    iamagoldking        1003             35 2022-03-28 18:53:50   \n",
       "1128      Hayes4prez      138420             51 2022-03-28 20:00:20   \n",
       "1058        Joneszey       35435            875 2022-03-28 19:02:54   \n",
       "1399       Oregon687       43766             84 2022-03-28 12:14:01   \n",
       "\n",
       "         AccountDateTime      ThreadDateTime  CommentKarma  AdjustedKarma  \\\n",
       "1659 2021-07-29 11:04:47 2022-03-28 07:48:03             1           3450   \n",
       "578  2017-12-06 07:39:13 2022-03-28 09:48:29            20         106458   \n",
       "1432 2018-10-09 23:03:17 2022-03-28 18:37:56             1            700   \n",
       "566  2013-01-12 16:48:02 2022-03-28 09:48:29           198          13221   \n",
       "878  2021-04-01 16:11:39 2022-03-28 10:45:19           233           9246   \n",
       "...                  ...                 ...           ...            ...   \n",
       "1332 2013-12-04 15:42:33 2022-03-28 15:34:42             1        1204693   \n",
       "1441 2021-04-05 16:01:19 2022-03-28 18:37:56             1           1002   \n",
       "1128 2012-04-27 10:48:23 2022-03-28 19:44:07             1         138419   \n",
       "1058 2014-12-12 21:33:49 2022-03-28 18:46:39             1          35434   \n",
       "1399 2020-08-12 14:26:40 2022-03-28 11:57:28             0          43766   \n",
       "\n",
       "      AdjustedKarmaPercent                                         CommentURL  \\\n",
       "1659          2.897711e-04  https://www.reddit.com/r/politics/comments/tq7...   \n",
       "578           1.878322e-04  https://www.reddit.com/r/politics/comments/tq9...   \n",
       "1432          1.426534e-03  https://www.reddit.com/r/politics/comments/tql...   \n",
       "566           1.475520e-02  https://www.reddit.com/r/politics/comments/tq9...   \n",
       "878           2.458065e-02  https://www.reddit.com/r/politics/comments/tqa...   \n",
       "...                    ...                                                ...   \n",
       "1332          8.300863e-07  https://www.reddit.com/r/politics/comments/tqh...   \n",
       "1441          9.970090e-04  https://www.reddit.com/r/politics/comments/tql...   \n",
       "1128          7.224390e-06  https://www.reddit.com/r/politics/comments/tqm...   \n",
       "1058          2.822069e-05  https://www.reddit.com/r/politics/comments/tql...   \n",
       "1399          0.000000e+00  https://www.reddit.com/r/politics/comments/tqc...   \n",
       "\n",
       "      TimeDifference  \n",
       "1659 0 days 00:00:43  \n",
       "578  0 days 00:00:49  \n",
       "1432 0 days 00:00:55  \n",
       "566  0 days 00:00:57  \n",
       "878  0 days 00:00:59  \n",
       "...              ...  \n",
       "1332 0 days 00:15:49  \n",
       "1441 0 days 00:15:54  \n",
       "1128 0 days 00:16:13  \n",
       "1058 0 days 00:16:15  \n",
       "1399 0 days 00:16:33  \n",
       "\n",
       "[100 rows x 11 columns]"
      ]
     },
     "execution_count": 2,
     "metadata": {},
     "output_type": "execute_result"
    }
   ],
   "source": [
    "\n",
    "\n",
    "df['TimeDifference'] = df['CommentDateTime'] - df['ThreadDateTime']\n",
    "sortByPostSpeed = df.sort_values(by = ['TimeDifference'])\n",
    "print(len(sortByPostSpeed))\n",
    "sortByPostSpeed.head(100)"
   ]
  },
  {
   "cell_type": "code",
   "execution_count": 3,
   "id": "4e451bc5",
   "metadata": {},
   "outputs": [],
   "source": [
    "\n",
    "today = datetime.now()\n",
    "start_date = today - timedelta(days = 30)\n",
    "end_date = today\n",
    "\n",
    "sortdf = df.sort_values(by=['AccountDateTime'])\n",
    "\n"
   ]
  },
  {
   "cell_type": "markdown",
   "id": "77156512",
   "metadata": {},
   "source": [
    "Below, we are looking at comments sorted by post speed. Comments to the left were posted in the shortest amount of time after the thread wass posted. Unsurprisingly, these comments have the most variance. I have color coded the scatter plot to change based on earned comment karma."
   ]
  },
  {
   "cell_type": "code",
   "execution_count": 4,
   "id": "def0d9b7",
   "metadata": {},
   "outputs": [
    {
     "data": {
      "image/png": "[encoded data removed]",
      "text/plain": [
       "<Figure size 432x288 with 2 Axes>"
      ]
     },
     "metadata": {
      "needs_background": "light"
     },
     "output_type": "display_data"
    }
   ],
   "source": [
    "sortByPostSpeed['TotalMinutes'] = sortByPostSpeed['TimeDifference'] / pd.to_timedelta(1, unit = 'm')\n",
    "\n",
    "FastComments = sortByPostSpeed.plot.scatter(x='TotalMinutes', y='AdjustedKarmaPercent', c = 'CommentKarma',\n",
    "                                            colormap='viridis')"
   ]
  },
  {
   "cell_type": "markdown",
   "id": "3cae14c5",
   "metadata": {},
   "source": [
    "This is a quick look at the shape of comments from accounts created within the last 30 days, comparing their comment Karma to their date creation."
   ]
  },
  {
   "cell_type": "code",
   "execution_count": 5,
   "id": "b91043a3",
   "metadata": {},
   "outputs": [
    {
     "name": "stdout",
     "output_type": "stream",
     "text": [
      "79\n"
     ]
    },
    {
     "data": {
      "image/png": "[encoded data removed]",
      "text/plain": [
       "<Figure size 432x288 with 2 Axes>"
      ]
     },
     "metadata": {
      "needs_background": "light"
     },
     "output_type": "display_data"
    }
   ],
   "source": [
    "condition = (sortdf['AccountDateTime'] >= start_date) & (sortdf['AccountDateTime'] <= end_date)\n",
    "newAccounts = sortdf.loc[condition]\n",
    "print(len(newAccounts))\n",
    "newAccounts.head(100)\n",
    "\n",
    "NewAccounts = newAccounts.plot.scatter(x='AccountDateTime', y='CommentKarma', c='AdjustedKarmaPercent', \n",
    "                                       logy = True, colormap='viridis')"
   ]
  },
  {
   "cell_type": "markdown",
   "id": "8f869788",
   "metadata": {},
   "source": [
    "Here we can see all accounts that started the thread with negative karma. These are accounts I would initially expect to be troll or bot accounts, as maintaining a negative karma on Reddit...can take some work. That or one REALLY downvoted post. I'll print a couple URL's to the comment links, in order to see what kind of comments they are. \n",
    "\n",
    "WARNING: This is done in a live Reddit environment, I have no control over the data. The possibility for hateful, NSFW, or outright illegal comments is very likely. I assume no responsibility for the results. FOLLOW THESE LINKS AT YOUR OWN RISK!!!"
   ]
  },
  {
   "cell_type": "code",
   "execution_count": 6,
   "id": "eb1cd25b",
   "metadata": {},
   "outputs": [
    {
     "name": "stdout",
     "output_type": "stream",
     "text": [
      "28\n"
     ]
    },
    {
     "data": {
      "text/plain": [
       "457     https://www.reddit.com/r/politics/comments/tqhrnw/the_trumps_did_business_with_an_oligarch_linked/i2ihue2/\n",
       "1434         https://www.reddit.com/r/politics/comments/tqla6a/a_get_out_of_jail_free_card_gop_bill_would/i2hx5gm/\n",
       "952     https://www.reddit.com/r/politics/comments/tqawms/the_bottomless_corruption_of_ginni_and_clarence/i2hoe0q/\n",
       "909     https://www.reddit.com/r/politics/comments/tqawms/the_bottomless_corruption_of_ginni_and_clarence/i2idnj9/\n",
       "1544         https://www.reddit.com/r/politics/comments/tq7jpi/january_6_committee_likely_to_reach_out_to/i2g95aa/\n",
       "Name: CommentURL, dtype: object"
      ]
     },
     "execution_count": 6,
     "metadata": {},
     "output_type": "execute_result"
    }
   ],
   "source": [
    "pd.set_option('display.max_colwidth', None)\n",
    "condition = (sortByPostSpeed['AdjustedKarma'] < 0)\n",
    "\n",
    "\n",
    "negativeKarma = sortByPostSpeed.loc[condition]\n",
    "print(len(negativeKarma))\n",
    "sample = negativeKarma.sample(n = 5)\n",
    "sample['CommentURL']"
   ]
  },
  {
   "cell_type": "markdown",
   "id": "a76b3938",
   "metadata": {},
   "source": [
    "The above query often results in toxic comments. This is to be expected from accounts with a low Karma rating. Let's look at a few of the highest Karma comments; hopefully they will provide more uplifting results."
   ]
  },
  {
   "cell_type": "code",
   "execution_count": 11,
   "id": "ac9b182f",
   "metadata": {},
   "outputs": [
    {
     "data": {
      "text/plain": [
       "696    https://www.reddit.com/r/politics/comments/tq8jyn/peoples_convoy_gives_up_will_leave_washington_dc/i2fk1s1/\n",
       "231       https://www.reddit.com/r/politics/comments/tqevbk/mississippi_republican_calls_for_execution_of/i2gpsg2/\n",
       "699    https://www.reddit.com/r/politics/comments/tq8jyn/peoples_convoy_gives_up_will_leave_washington_dc/i2fm2x6/\n",
       "232       https://www.reddit.com/r/politics/comments/tqevbk/mississippi_republican_calls_for_execution_of/i2gpgrr/\n",
       "698    https://www.reddit.com/r/politics/comments/tq8jyn/peoples_convoy_gives_up_will_leave_washington_dc/i2florq/\n",
       "Name: CommentURL, dtype: object"
      ]
     },
     "execution_count": 11,
     "metadata": {},
     "output_type": "execute_result"
    }
   ],
   "source": [
    "largestdf = df.nlargest(5, 'CommentKarma')\n",
    "largestdf.head()\n",
    "largestdf['CommentURL']"
   ]
  },
  {
   "cell_type": "markdown",
   "id": "89158425",
   "metadata": {},
   "source": [
    "## Conclusion\n",
    "\n",
    "I have run a very limited number of queries of the past 2 cells, but both of them seem to share the same qualities:\n",
    "\n",
    "    1) short comments\n",
    "    2) pointed(borderline toxic) comments\n",
    "    \n",
    "It is hard to point to any of these accounts being \"bots\"(which was my original) intent; but I think it speaks very clearly to the nature of communication on the internet. \"Hot takes\", or short, often derisive comments, seem to be the king at the upper and lower end of the spectrum. I will need to do further research to try to suss out which accounts are \"bots\", but it seems a lot of them would be considered \"troll\" accounts. I have been looking at their post histories, and in general these accounts seem to post short, pointed comments. \n",
    "It could be that this is the nature of communication on the internet: it takes a lot more work to post a long, thought out comment, and by nature people may simply do that less on average. It could also be that the accounts at the upper and lower ends of the spectrum have more nefarious means than communication. \n",
    "\n",
    "I do not know if this is an answer I am capable of finding, but I hope to do future work on this project with the intent of making more scientific analyses of the information at hand."
   ]
  },
  {
   "cell_type": "code",
   "execution_count": null,
   "id": "fcd76aa1",
   "metadata": {},
   "outputs": [],
   "source": []
  }
 ],
 "metadata": {
  "kernelspec": {
   "display_name": "testenv",
   "language": "python",
   "name": "testenv"
  },
  "language_info": {
   "codemirror_mode": {
    "name": "ipython",
    "version": 3
   },
   "file_extension": ".py",
   "mimetype": "text/x-python",
   "name": "python",
   "nbconvert_exporter": "python",
   "pygments_lexer": "ipython3",
   "version": "3.9.7"
  }
 },
 "nbformat": 4,
 "nbformat_minor": 5
}
