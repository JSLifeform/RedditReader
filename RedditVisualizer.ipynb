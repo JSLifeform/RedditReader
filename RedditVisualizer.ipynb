{
 "cells": [
  {
   "cell_type": "markdown",
   "id": "f70e8e67",
   "metadata": {},
   "source": [
    "# Reddit r/politics/hot top comment analyses\n",
    "\n",
    "Reddit is an extremely popular online forum, ranking as #23 in internet traffic engagement(according to https://www.alexa.com/siteinfo/reddit.com). It is broken into subreddits, shortcut as r/, where users can post relevant links, images, videos, or simply text posts relevant to the particular subreddit. These posts are sometimes called threads. Other users may then reply to these threads with comments. This allows other users to reply to their comments, allowing for robust(occasionally), informative(sometimes), interesting(inane?) and diverse(hah!) conversation. \n",
    "\n",
    "All users registered to Reddit may upvote or downvote any thread or comment on the site, creating a score for each item. This score is known as Karma. Reddit also tracks the total Karma for each user (the cumulative of their earned karma from their posts comments). \n",
    "\n",
    "The purpose of this project is to analyze the top comments in trending  threads from the r/politics subreddit, in the section known as hot/. Put all of this together, and you get the URL of the site we are scraping for data: https://www.reddit.com/r/politics/hot."
   ]
  },
  {
   "cell_type": "code",
   "execution_count": 3,
   "id": "6814c2f6",
   "metadata": {},
   "outputs": [
    {
     "name": "stdout",
     "output_type": "stream",
     "text": [
      "1443\n"
     ]
    },
    {
     "data": {
      "text/html": [
       "<div>\n",
       "<style scoped>\n",
       "    .dataframe tbody tr th:only-of-type {\n",
       "        vertical-align: middle;\n",
       "    }\n",
       "\n",
       "    .dataframe tbody tr th {\n",
       "        vertical-align: top;\n",
       "    }\n",
       "\n",
       "    .dataframe thead th {\n",
       "        text-align: right;\n",
       "    }\n",
       "</style>\n",
       "<table border=\"1\" class=\"dataframe\">\n",
       "  <thead>\n",
       "    <tr style=\"text-align: right;\">\n",
       "      <th></th>\n",
       "      <th>Name</th>\n",
       "      <th>TotalKarma</th>\n",
       "      <th>CommentKarma</th>\n",
       "      <th>DateTime</th>\n",
       "      <th>AdjustedKarma</th>\n",
       "      <th>AdjustedKarmaPercent</th>\n",
       "    </tr>\n",
       "  </thead>\n",
       "  <tbody>\n",
       "    <tr>\n",
       "      <th>0</th>\n",
       "      <td>Landolph</td>\n",
       "      <td>5368</td>\n",
       "      <td>1</td>\n",
       "      <td>2011-04-07 20:52:15</td>\n",
       "      <td>5367</td>\n",
       "      <td>0.000186</td>\n",
       "    </tr>\n",
       "    <tr>\n",
       "      <th>1</th>\n",
       "      <td>Doctor420Strange69</td>\n",
       "      <td>511771</td>\n",
       "      <td>1</td>\n",
       "      <td>2021-03-27 19:46:08</td>\n",
       "      <td>511770</td>\n",
       "      <td>0.000002</td>\n",
       "    </tr>\n",
       "    <tr>\n",
       "      <th>2</th>\n",
       "      <td>boundingalong</td>\n",
       "      <td>9825</td>\n",
       "      <td>1</td>\n",
       "      <td>2015-08-21 07:05:24</td>\n",
       "      <td>9824</td>\n",
       "      <td>0.000102</td>\n",
       "    </tr>\n",
       "    <tr>\n",
       "      <th>3</th>\n",
       "      <td>TheGarreth</td>\n",
       "      <td>106071</td>\n",
       "      <td>1</td>\n",
       "      <td>2013-09-03 15:31:30</td>\n",
       "      <td>106070</td>\n",
       "      <td>0.000009</td>\n",
       "    </tr>\n",
       "    <tr>\n",
       "      <th>4</th>\n",
       "      <td>lpisme</td>\n",
       "      <td>133998</td>\n",
       "      <td>1</td>\n",
       "      <td>2011-04-15 20:59:09</td>\n",
       "      <td>133997</td>\n",
       "      <td>0.000007</td>\n",
       "    </tr>\n",
       "  </tbody>\n",
       "</table>\n",
       "</div>"
      ],
      "text/plain": [
       "                 Name  TotalKarma  CommentKarma             DateTime  \\\n",
       "0            Landolph        5368             1  2011-04-07 20:52:15   \n",
       "1  Doctor420Strange69      511771             1  2021-03-27 19:46:08   \n",
       "2       boundingalong        9825             1  2015-08-21 07:05:24   \n",
       "3          TheGarreth      106071             1  2013-09-03 15:31:30   \n",
       "4              lpisme      133998             1  2011-04-15 20:59:09   \n",
       "\n",
       "   AdjustedKarma  AdjustedKarmaPercent  \n",
       "0           5367              0.000186  \n",
       "1         511770              0.000002  \n",
       "2           9824              0.000102  \n",
       "3         106070              0.000009  \n",
       "4         133997              0.000007  "
      ]
     },
     "execution_count": 3,
     "metadata": {},
     "output_type": "execute_result"
    }
   ],
   "source": [
    "import pandas as pd\n",
    "import matplotlib.pyplot as plt\n",
    "from datetime import datetime, timedelta\n",
    "\n",
    "df = pd.read_csv('out.csv')\n",
    "print(len(df))\n",
    "df.head()"
   ]
  },
  {
   "cell_type": "markdown",
   "id": "f23a60e2",
   "metadata": {},
   "source": [
    "### Analysis\n",
    "\n",
    "Above is a snippet of the data we will be analyzing. I have been scraping data with RedditReader.ipynb and placing it into a .csv file for this section of the project. I have chosen this method for 2 reasons:\n",
    "    \n",
    "    1) Data scraping can be tedious, as it involves making several requests of the Reddit API and parsing the information\n",
    "    2) This allows the opportunity to analyze data over several days of Reddit threads.\n",
    "\n",
    "This project will analyze the data in a couple of ways, pertaining to the various Karma and times of creations of any comments, comment authors, and Reddit threads."
   ]
  },
  {
   "cell_type": "code",
   "execution_count": 12,
   "id": "4e451bc5",
   "metadata": {},
   "outputs": [
    {
     "name": "stdout",
     "output_type": "stream",
     "text": [
      "Name                            object\n",
      "TotalKarma                       int64\n",
      "CommentKarma                     int64\n",
      "DateTime                datetime64[ns]\n",
      "AdjustedKarma                    int64\n",
      "AdjustedKarmaPercent           float64\n",
      "dtype: object\n",
      "56\n"
     ]
    },
    {
     "data": {
      "text/html": [
       "<div>\n",
       "<style scoped>\n",
       "    .dataframe tbody tr th:only-of-type {\n",
       "        vertical-align: middle;\n",
       "    }\n",
       "\n",
       "    .dataframe tbody tr th {\n",
       "        vertical-align: top;\n",
       "    }\n",
       "\n",
       "    .dataframe thead th {\n",
       "        text-align: right;\n",
       "    }\n",
       "</style>\n",
       "<table border=\"1\" class=\"dataframe\">\n",
       "  <thead>\n",
       "    <tr style=\"text-align: right;\">\n",
       "      <th></th>\n",
       "      <th>Name</th>\n",
       "      <th>TotalKarma</th>\n",
       "      <th>CommentKarma</th>\n",
       "      <th>DateTime</th>\n",
       "      <th>AdjustedKarma</th>\n",
       "      <th>AdjustedKarmaPercent</th>\n",
       "    </tr>\n",
       "  </thead>\n",
       "  <tbody>\n",
       "    <tr>\n",
       "      <th>849</th>\n",
       "      <td>forchimpssake</td>\n",
       "      <td>744</td>\n",
       "      <td>1</td>\n",
       "      <td>2022-02-23 18:27:02</td>\n",
       "      <td>743</td>\n",
       "      <td>0.001344</td>\n",
       "    </tr>\n",
       "    <tr>\n",
       "      <th>266</th>\n",
       "      <td>poor_choice_doer</td>\n",
       "      <td>333</td>\n",
       "      <td>1</td>\n",
       "      <td>2022-02-24 02:35:06</td>\n",
       "      <td>332</td>\n",
       "      <td>0.003003</td>\n",
       "    </tr>\n",
       "    <tr>\n",
       "      <th>989</th>\n",
       "      <td>plantslut20000</td>\n",
       "      <td>14</td>\n",
       "      <td>1</td>\n",
       "      <td>2022-02-24 19:14:47</td>\n",
       "      <td>13</td>\n",
       "      <td>0.071429</td>\n",
       "    </tr>\n",
       "    <tr>\n",
       "      <th>444</th>\n",
       "      <td>ochregeist</td>\n",
       "      <td>24123</td>\n",
       "      <td>1</td>\n",
       "      <td>2022-02-25 01:36:07</td>\n",
       "      <td>24122</td>\n",
       "      <td>0.000041</td>\n",
       "    </tr>\n",
       "    <tr>\n",
       "      <th>181</th>\n",
       "      <td>5th_attempt</td>\n",
       "      <td>1054</td>\n",
       "      <td>281</td>\n",
       "      <td>2022-02-25 22:33:32</td>\n",
       "      <td>773</td>\n",
       "      <td>0.266603</td>\n",
       "    </tr>\n",
       "  </tbody>\n",
       "</table>\n",
       "</div>"
      ],
      "text/plain": [
       "                 Name  TotalKarma  CommentKarma            DateTime  \\\n",
       "849     forchimpssake         744             1 2022-02-23 18:27:02   \n",
       "266  poor_choice_doer         333             1 2022-02-24 02:35:06   \n",
       "989    plantslut20000          14             1 2022-02-24 19:14:47   \n",
       "444        ochregeist       24123             1 2022-02-25 01:36:07   \n",
       "181       5th_attempt        1054           281 2022-02-25 22:33:32   \n",
       "\n",
       "     AdjustedKarma  AdjustedKarmaPercent  \n",
       "849            743              0.001344  \n",
       "266            332              0.003003  \n",
       "989             13              0.071429  \n",
       "444          24122              0.000041  \n",
       "181            773              0.266603  "
      ]
     },
     "execution_count": 12,
     "metadata": {},
     "output_type": "execute_result"
    }
   ],
   "source": [
    "df = df.astype({'DateTime': 'datetime64'})\n",
    "print(df.dtypes)\n",
    "\n",
    "today = datetime.now()\n",
    "start_date = today - timedelta(days = 30)\n",
    "end_date = today\n",
    "\n",
    "sortdf = df.sort_values(by=['DateTime'])\n",
    "\n",
    "condition = (sortdf['DateTime'] >= start_date) & (sortdf['DateTime'] <= end_date)\n",
    "newAccounts = sortdf.loc[condition]\n",
    "print(len(newAccounts))\n",
    "newAccounts.head()"
   ]
  },
  {
   "cell_type": "markdown",
   "id": "77156512",
   "metadata": {},
   "source": [
    "## Talk about what I'm analyzing"
   ]
  },
  {
   "cell_type": "code",
   "execution_count": 9,
   "id": "b91043a3",
   "metadata": {},
   "outputs": [
    {
     "data": {
      "image/png": "[encoded data removed]",
      "text/plain": [
       "<Figure size 432x288 with 2 Axes>"
      ]
     },
     "metadata": {
      "needs_background": "light"
     },
     "output_type": "display_data"
    }
   ],
   "source": [
    "NewAccounts = newAccounts.plot.scatter(x='AuthorDateTime', y='TotalKarma', c='AdjustedKarmaPercent', colormap='viridis')"
   ]
  }
 ],
 "metadata": {
  "kernelspec": {
   "display_name": "testenv",
   "language": "python",
   "name": "testenv"
  },
  "language_info": {
   "codemirror_mode": {
    "name": "ipython",
    "version": 3
   },
   "file_extension": ".py",
   "mimetype": "text/x-python",
   "name": "python",
   "nbconvert_exporter": "python",
   "pygments_lexer": "ipython3",
   "version": "3.9.7"
  }
 },
 "nbformat": 4,
 "nbformat_minor": 5
}
